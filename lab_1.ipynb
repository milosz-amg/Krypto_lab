{
 "cells": [
  {
   "cell_type": "markdown",
   "metadata": {},
   "source": [
    "# Labolatoria 1"
   ]
  },
  {
   "cell_type": "markdown",
   "metadata": {},
   "source": [
    "## Zadanie 1\n",
    "Zaimplementuj algorytm (funkcję), która generuje losowy element zbioru Zn. <br>\n",
    "Dane: k ∈ N <br>\n",
    "Wynik: k-bitowa liczba b ∈ Z<sub>n</sub> <br>"
   ]
  },
  {
   "cell_type": "code",
   "execution_count": 40,
   "metadata": {},
   "outputs": [
    {
     "name": "stdout",
     "output_type": "stream",
     "text": [
      "339950059961606315162057071423924731840\n",
      "177342581138373222702897517998478226434\n"
     ]
    }
   ],
   "source": [
    "import gmpy2\n",
    "import random\n",
    "import time\n",
    "from gmpy2 import mpz\n",
    "\n",
    "def random_elem_zn(k):\n",
    "    r_state = gmpy2.random_state(hash(gmpy2.random_state()))\n",
    "    r = gmpy2.mpz_rrandomb(r_state, k)\n",
    "    return r\n",
    "print(random_elem_zn(k=128))\n",
    "\n",
    "def random_elem_zn(k):\n",
    "    random.seed(int(time.time()))\n",
    "\n",
    "    bin = \"1\" +\"\".join(str(random.randint(0,1)) for bit in range(k-1))\n",
    "    r = mpz(bin, 2)\n",
    "    return r\n",
    "print(random_elem_zn(k=128))\n",
    "\n"
   ]
  },
  {
   "cell_type": "markdown",
   "metadata": {},
   "source": [
    "## Zadanie 2\n",
    "Zaimplementuj algorytm (funkcję) obliczania odwrotności w grupie Φ(n). Wykorzystaj\n",
    "Rozszerzony Algorytm Euklidesa. <br>\n",
    "Dane: n ∈ N, b ∈ Φ(n) <br>\n",
    "Wynik: b <sup>-1</sup> ∈ Φ(n) <br>"
   ]
  },
  {
   "cell_type": "code",
   "execution_count": 19,
   "metadata": {},
   "outputs": [
    {
     "name": "stdout",
     "output_type": "stream",
     "text": [
      "3277\n"
     ]
    }
   ],
   "source": [
    "def xgcd(a: int, b: int):\n",
    "    \"\"\"return (g, x, y) such that a*x + b*y = g = gcd(a, b)\"\"\"\n",
    "    x0, x1, y0, y1 = 0, 1, 1, 0\n",
    "    while a != 0:\n",
    "        (q, a), b = divmod(b, a), a\n",
    "        y0, y1 = y1, y0 - q * y1\n",
    "        x0, x1 = x1, x0 - q * x1\n",
    "    return (b, x0, y0)\n",
    "\n",
    "\n",
    "def reverse_elem_in_group(b,n):\n",
    "    gcd, x, _ = xgcd(b, n)\n",
    "\n",
    "    if gcd != 1:\n",
    "        print(\"odwrotnosc nie istnieje\")\n",
    "        return\n",
    "\n",
    "    return x%n\n",
    "\n",
    "print(reverse_elem_in_group(b=5, n=4096))"
   ]
  },
  {
   "cell_type": "markdown",
   "metadata": {},
   "source": [
    "## Zadanie 3\n",
    "Zaimplementuj algorytm (funkcję) efektywnego potęgowania w zbiorze Zn. Wykorzystaj\n",
    "algorytm iterowanego podnoszenia do kwadratu. <br>\n",
    "Dane: n, k ∈ N, b ∈ Z<sub>n</sub><br>\n",
    "Wynik: b<sup>k</sup> ∈ Z<sub>n</sub><br>"
   ]
  },
  {
   "cell_type": "code",
   "execution_count": 20,
   "metadata": {},
   "outputs": [
    {
     "name": "stdout",
     "output_type": "stream",
     "text": [
      "9\n"
     ]
    }
   ],
   "source": [
    "def effective_power(b,k,n):\n",
    "    resoult = 1\n",
    "    b = b % n\n",
    "    while k>0:\n",
    "        if k % 2 == 1:\n",
    "            resoult = (resoult * b) % n\n",
    "        k = k//2\n",
    "        b = (b * b) % n\n",
    "    return resoult\n",
    "\n",
    "print(effective_power(b=219, k=16, n=12))"
   ]
  },
  {
   "cell_type": "markdown",
   "metadata": {},
   "source": [
    "## Zadanie 4\n",
    "Niech p będzie liczbą pierwszą. Zaimplementuj test (funkcję), który sprawdza czy element\n",
    "zbioru Z<sub>p</sub> jest resztą kwadratową w Z<sub>p</sub>. Wykorzystaj twierdzenie Eulera.<br>\n",
    "Dane: b ∈ Z<sub>p</sub><br>\n",
    "Wynik: True jeśli b jest resztą kwadratową, False w przeciwnym wypadku."
   ]
  },
  {
   "cell_type": "markdown",
   "metadata": {},
   "source": [
    "Twierdzenie Eulera mówi, że dla liczby pierwszej \n",
    "𝑝 i dowolnego 𝑏 ∈ 𝑍<sub>𝑝</sub><sup>∗</sup> (czyli elementu odwrotnego w 𝑍<sub>𝑝</sub>), spełniony jest warunek: <br>\n",
    "𝑏<sup>(𝑝−1)/2</sup>≡1(mod 𝑝) <br>\n",
    "jeśli 𝑏 jest resztą kwadratową."
   ]
  },
  {
   "cell_type": "code",
   "execution_count": 26,
   "metadata": {},
   "outputs": [
    {
     "name": "stdout",
     "output_type": "stream",
     "text": [
      "False\n",
      "True\n",
      "True\n",
      "False\n",
      "True\n",
      "True\n"
     ]
    }
   ],
   "source": [
    "import gmpy2\n",
    "\n",
    "def is_quadratic_residue(b, p):\n",
    "    resoult = gmpy2.powmod(b, (p-1)//2, p)\n",
    "    return resoult == 1\n",
    "\n",
    "print(is_quadratic_residue(b=gmpy2.mpz(6), p=gmpy2.mpz(11)))    \n",
    "print(is_quadratic_residue(b=gmpy2.mpz(5), p=gmpy2.mpz(11)))    \n",
    "print(is_quadratic_residue(b=gmpy2.mpz(123456789), p=gmpy2.mpz(1000000007)))  \n",
    "\n",
    "\n",
    "# uzywajac funkcji z zadania 3\n",
    "\n",
    "def effective_power(b,k,n):\n",
    "    resoult = 1\n",
    "    b = b % n\n",
    "    while k>0:\n",
    "        if k % 2 == 1:\n",
    "            resoult = (resoult * b) % n\n",
    "        k = k//2\n",
    "        b = (b * b) % n\n",
    "    return resoult\n",
    "\n",
    "def is_quadratic_residue(b, p):\n",
    "    resoult = effective_power(b, (p-1)//2, p)\n",
    "    return resoult == 1\n",
    "\n",
    "print(is_quadratic_residue(b=gmpy2.mpz(6), p=gmpy2.mpz(11)))    \n",
    "print(is_quadratic_residue(b=gmpy2.mpz(5), p=gmpy2.mpz(11)))    \n",
    "print(is_quadratic_residue(b=gmpy2.mpz(123456789), p=gmpy2.mpz(1000000007)))  "
   ]
  },
  {
   "cell_type": "markdown",
   "metadata": {},
   "source": [
    "## Zadanie 5\n",
    "Zaimplementuj algorytm (funkcję), który oblicza pierwiastek kwadratowy w ciele Z<sub>p</sub>, gdzie\n",
    "p ≡ 3 (mod 4) jest liczbą pierwszą. Wykorzystaj twierdzenie Eulera.<br>\n",
    "Dane: b ∈ Z<sub>p</sub>, b jest resztą kwadratową Z<sub>p</sub><br>\n",
    "Wynik: a ∈ Z<sub>p</sub> taki, że a<sup>2</sup> ≡ b (mod p)."
   ]
  },
  {
   "cell_type": "markdown",
   "metadata": {},
   "source": [
    "#### Twierdzenie Eulera dla  p ≡ 3 (mod 4):\n",
    "Jeśli p ≡ 3 (mod 4) i b ∈ Z<sub>p</sub> jest resztą kwadratową modulo p, to istnieje sposób obliczenia pierwiastka kwadratowego z b przy użyciu wzoru: <br>\n",
    "a ≡ b <sup>(p+1)/4</sup>(mod p) <br>\n",
    "gdzie a<sup>2</sup> ≡ b (mod p)"
   ]
  },
  {
   "cell_type": "code",
   "execution_count": 37,
   "metadata": {},
   "outputs": [
    {
     "name": "stdout",
     "output_type": "stream",
     "text": [
      "4\n",
      "2\n"
     ]
    }
   ],
   "source": [
    "import gmpy2\n",
    "def sqrt_mod_p(b, p):\n",
    "    resoult = effective_power(b=b, k=(p+1)//4, n=p)\n",
    "    return resoult\n",
    "\n",
    "print(sqrt_mod_p(b=gmpy2.mpz(5), p=gmpy2.mpz(11)))\n",
    "print(sqrt_mod_p(b=gmpy2.mpz(4), p=gmpy2.mpz(7)))"
   ]
  },
  {
   "cell_type": "markdown",
   "metadata": {},
   "source": [
    "## Zadanie 6\n",
    "Wykorzystaj test pierwszości zaimplementowany w języku programowania, w którym zaimplementowałeś powyższe <br> \n",
    "Dane: n ∈ N <br>\n",
    "Wynik: True jeśli n jest liczbą pierwszą, False w przeciwnym wypadku."
   ]
  },
  {
   "cell_type": "code",
   "execution_count": 45,
   "metadata": {},
   "outputs": [
    {
     "name": "stdout",
     "output_type": "stream",
     "text": [
      "True\n",
      "True\n"
     ]
    }
   ],
   "source": [
    "from gmpy2 import mpz, random_state, mpz_random, c_div, is_prime\n",
    "\n",
    "def effective_power(b,k,n):\n",
    "    resoult = 1\n",
    "    b = b % n\n",
    "    while k>0:\n",
    "        if k % 2 == 1:\n",
    "            resoult = (resoult * b) % n\n",
    "        k = k//2\n",
    "        b = (b * b) % n\n",
    "    return resoult\n",
    "\n",
    "def miller_rabin(n, k=5):\n",
    "\n",
    "    if n <= mpz(1):\n",
    "        return False\n",
    "    if n <= mpz(3):\n",
    "        return True\n",
    "    if n % mpz(2) == mpz(0):\n",
    "        return False\n",
    "\n",
    "    r, d = mpz(0), n - mpz(1)\n",
    "    while d % mpz(2) == mpz(0):\n",
    "        d = c_div(d,mpz(2))\n",
    "        r += mpz(1)\n",
    "\n",
    "    def is_composite(a):\n",
    "        if effective_power(a, d, n) == mpz(1):\n",
    "            return False\n",
    "        for i in range(r):\n",
    "            if effective_power(a, mpz(2)**i * d, n) == n - mpz(1):\n",
    "                return False\n",
    "        return True\n",
    "    \n",
    "    rand_state = random_state()\n",
    "\n",
    "    for _ in range(k):\n",
    "        a = mpz_random(rand_state, n-mpz(2)) + mpz(2)\n",
    "        if is_composite(a):\n",
    "            return False\n",
    "\n",
    "    return True\n",
    "\n",
    "print(miller_rabin(mpz(224737)))\n",
    "print(is_prime(mpz(224737)))\n"
   ]
  }
 ],
 "metadata": {
  "kernelspec": {
   "display_name": "Python 3",
   "language": "python",
   "name": "python3"
  },
  "language_info": {
   "codemirror_mode": {
    "name": "ipython",
    "version": 3
   },
   "file_extension": ".py",
   "mimetype": "text/x-python",
   "name": "python",
   "nbconvert_exporter": "python",
   "pygments_lexer": "ipython3",
   "version": "3.10.12"
  }
 },
 "nbformat": 4,
 "nbformat_minor": 2
}
