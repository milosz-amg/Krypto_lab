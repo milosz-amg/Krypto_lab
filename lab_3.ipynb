{
 "cells": [
  {
   "cell_type": "markdown",
   "metadata": {},
   "source": [
    "# Labolatorium 3"
   ]
  },
  {
   "cell_type": "code",
   "execution_count": 50,
   "metadata": {},
   "outputs": [],
   "source": [
    "print(1)"
   ]
  },
  {
   "cell_type": "markdown",
   "metadata": {},
   "source": [
    "## Zadanie 1\n",
    "Zaimplementuj funkcję suma() <br>\n",
    "Dane: (xy)<sub>H</sub>,(uw)<sub>H</sub> ∈ F<sub><sub>2</sub>8</sub> <br>\n",
    "Wynik: (x'y')<sub>H</sub> = (xy)<sub>H</sub> + (uw)<sub>H</sub>."
   ]
  },
  {
   "cell_type": "code",
   "execution_count": null,
   "metadata": {},
   "outputs": [
    {
     "name": "stdout",
     "output_type": "stream",
     "text": [
      "p:  1876107869244225083716431659277759554288637033293346223946120665655092793813701478698964111\n",
      " A:  1441986700581766529139602322601526835791587603587798415355394046554946184508977270616632080\n",
      " B:  292829020395541929497781141647482845233645811457444988480890589738041457212325779776024518\n",
      "\n"
     ]
    }
   ],
   "source": []
  },
  {
   "cell_type": "markdown",
   "metadata": {},
   "source": [
    "## Zadanie 2\n",
    "Zaimplementuj funkcję xtime() <br>\n",
    "Dane: (xy)<sub>H</sub> ∈ F<sub><sub>2</sub>8</sub> <br>\n",
    "Wynik: (x'y')<sub>H</sub> = (xy)<sub>H</sub> * (02)<sub>H</sub>."
   ]
  },
  {
   "cell_type": "code",
   "execution_count": null,
   "metadata": {},
   "outputs": [
    {
     "name": "stdout",
     "output_type": "stream",
     "text": [
      "P=(632001240931913206424725296092737555291996466411769017127257663531360159738505913372800853,343089392046902625866744035273609795661765790634797233489747353499555070021147516944676200)\n",
      "P=(0,1)\n"
     ]
    }
   ],
   "source": []
  },
  {
   "cell_type": "markdown",
   "metadata": {},
   "source": [
    "## Zadanie 3\n",
    "Zaimplementuj funkcję iloczyn()\n",
    "<br>\n",
    "Dane: (xy)<sub>H</sub>,(uw)<sub>H</sub> ∈ F<sub><sub>2</sub>8</sub> <br>\n",
    "Wynik: (x'y')<sub>H</sub> = (xy)<sub>H</sub> * (uw)<sub>H</sub>."
   ]
  },
  {
   "cell_type": "code",
   "execution_count": null,
   "metadata": {},
   "outputs": [
    {
     "name": "stdout",
     "output_type": "stream",
     "text": [
      "-P=(632001240931913206424725296092737555291996466411769017127257663531360159738505913372800853,1388990823665099828837937320113545375437773105670108733528204807940628993724679039963227531)\n",
      "-P=(2,2)\n"
     ]
    }
   ],
   "source": []
  },
  {
   "cell_type": "markdown",
   "metadata": {},
   "source": [
    "## Zadanie 4\n",
    "Zaimplementuj funkcję odwrotnosc() <br>\n",
    "Dane: (xy)<sub>H</sub> ∈ F<sub><sub>2</sub>8</sub> <br>\n",
    "Wynik: (uw)<sub>H</sub>∈ F<sub><sub>2</sub>8</sub>, gdzie (xy)<sub>H</sub> * (uw)<sub>H</sub>=(01)<sub>H</sub>."
   ]
  },
  {
   "cell_type": "code",
   "execution_count": null,
   "metadata": {},
   "outputs": [
    {
     "name": "stdout",
     "output_type": "stream",
     "text": [
      "p=1209190243764830539897540748420729897686982584954007018549249398461167867377343101723591447\n",
      "P=(1040525989921319378167680066565955445002440073598338531341959507715951342101836861851254046,197004223270094874291775984204358827077927911705015980377762613337901591705923998827355020)\n",
      "Q=(779435042344436695024326097840543094124230939780408125040425066973770586780631710665806391,307553494233576374914534615688949409720223245980231378280937508417890967851534112622709380)\n",
      "P+Q=(540591093681901591187119591351813715491888863845167070378083744632382334665578349735263663,277896869468123653535070796948174981171209212475221373455088364028521950930383996506703955)\n"
     ]
    }
   ],
   "source": []
  }
 ],
 "metadata": {
  "kernelspec": {
   "display_name": "Python 3",
   "language": "python",
   "name": "python3"
  },
  "language_info": {
   "codemirror_mode": {
    "name": "ipython",
    "version": 3
   },
   "file_extension": ".py",
   "mimetype": "text/x-python",
   "name": "python",
   "nbconvert_exporter": "python",
   "pygments_lexer": "ipython3",
   "version": "3.10.12"
  }
 },
 "nbformat": 4,
 "nbformat_minor": 2
}
