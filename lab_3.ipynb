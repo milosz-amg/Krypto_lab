{
 "cells": [
  {
   "cell_type": "markdown",
   "metadata": {},
   "source": [
    "# Labolatorium 3"
   ]
  },
  {
   "cell_type": "markdown",
   "metadata": {},
   "source": [
    "## Zadanie 1\n",
    "Zaimplementuj funkcję suma() <br>\n",
    "Dane: (xy)<sub>H</sub>,(uw)<sub>H</sub> ∈ F<sub><sub>2</sub>8</sub> <br>\n",
    "Wynik: (x'y')<sub>H</sub> = (xy)<sub>H</sub> + (uw)<sub>H</sub>."
   ]
  },
  {
   "cell_type": "code",
   "execution_count": 46,
   "metadata": {},
   "outputs": [
    {
     "name": "stdout",
     "output_type": "stream",
     "text": [
      "suma(FA, CA): 30\n"
     ]
    }
   ],
   "source": [
    "def suma(a, b):\n",
    "    binA = bin(int(a, 16))[2:]\n",
    "    binB = bin(int(b, 16))[2:]\n",
    "    return hex(int(binA, 2) ^ int(binB, 2))[2:]\n",
    "\n",
    "# Test example\n",
    "a = \"FA\"\n",
    "b = \"CA\"\n",
    "print(f\"suma({a}, {b}):\", suma(a, b))"
   ]
  },
  {
   "cell_type": "markdown",
   "metadata": {},
   "source": [
    "## Zadanie 2\n",
    "Zaimplementuj funkcję xtime() <br>\n",
    "Dane: (xy)<sub>H</sub> ∈ F<sub><sub>2</sub>8</sub> <br>\n",
    "Wynik: (x'y')<sub>H</sub> = (xy)<sub>H</sub> * (02)<sub>H</sub>."
   ]
  },
  {
   "cell_type": "code",
   "execution_count": 49,
   "metadata": {},
   "outputs": [
    {
     "name": "stdout",
     "output_type": "stream",
     "text": [
      "xtime(A7): 55\n"
     ]
    }
   ],
   "source": [
    "def xtime(a):\n",
    "    binA = bin(int(a, 16))[2:]\n",
    "    const = \"1B\"\n",
    "\n",
    "    binA = binA.zfill(8)\n",
    "\n",
    "    if binA[0] == '1':\n",
    "        binA = binA[1:]\n",
    "        return suma(hex(int(binA, 2) << 1), const)\n",
    "    else:\n",
    "        return hex(int(binA, 2) << 1)[2:]\n",
    "\n",
    "a = \"A7\"\n",
    "print(f\"xtime({a}):\", xtime(a))"
   ]
  },
  {
   "cell_type": "markdown",
   "metadata": {},
   "source": [
    "## Zadanie 3\n",
    "Zaimplementuj funkcję iloczyn()\n",
    "<br>\n",
    "Dane: (xy)<sub>H</sub>,(uw)<sub>H</sub> ∈ F<sub><sub>2</sub>8</sub> <br>\n",
    "Wynik: (x'y')<sub>H</sub> = (xy)<sub>H</sub> * (uw)<sub>H</sub>."
   ]
  },
  {
   "cell_type": "code",
   "execution_count": 55,
   "metadata": {},
   "outputs": [
    {
     "name": "stdout",
     "output_type": "stream",
     "text": [
      "iloczyn(17, A6): d1\n"
     ]
    }
   ],
   "source": [
    "def iloczyn(a, b):\n",
    "    result = \"0\"\n",
    "    binA = bin(int(a, 16))[2:]\n",
    "\n",
    "    length = len(binA) - 1\n",
    "    for bit in binA:\n",
    "        if bit == '1':\n",
    "            tmp = b\n",
    "            counter = length\n",
    "            while counter != 0:\n",
    "                tmp = xtime(tmp)\n",
    "                counter -= 1\n",
    "            result = suma(tmp, result)\n",
    "        length -= 1\n",
    "    return result\n",
    "\n",
    "a = \"17\"\n",
    "b = \"A6\"\n",
    "print(f\"iloczyn({a}, {b}):\", iloczyn(a, b))"
   ]
  },
  {
   "cell_type": "markdown",
   "metadata": {},
   "source": [
    "## Zadanie 4\n",
    "Zaimplementuj funkcję odwrotnosc() <br>\n",
    "Dane: (xy)<sub>H</sub> ∈ F<sub><sub>2</sub>8</sub> <br>\n",
    "Wynik: (uw)<sub>H</sub>∈ F<sub><sub>2</sub>8</sub>, gdzie (xy)<sub>H</sub> * (uw)<sub>H</sub>=(01)<sub>H</sub>."
   ]
  },
  {
   "cell_type": "code",
   "execution_count": 53,
   "metadata": {},
   "outputs": [
    {
     "name": "stdout",
     "output_type": "stream",
     "text": [
      "odwrotnosc(17): 5f\n"
     ]
    }
   ],
   "source": [
    "def odwrotnosc(a):\n",
    "    if a == \"0\":\n",
    "        raise ValueError(\"Zero nie ma odwrotności w F(2^8)\")\n",
    "\n",
    "    wynik = \"01\"  # Zaczynamy od 1 w systemie szesnastkowym\n",
    "    potega = 254  # Odwrotność w F(2^8) to a^254=a^-1\n",
    "\n",
    "    while potega > 0:\n",
    "        if potega & 1:  # Jeśli bieżący bit potęgi to 1\n",
    "            wynik = iloczyn(wynik, a)  # Mnożymy wynik przez a\n",
    "        a = iloczyn(a, a)  # Podnosimy a do kwadratu\n",
    "        potega >>= 1  # Przesuwamy potęgę w prawo (dzielenie przez 2)\n",
    "\n",
    "    return wynik\n",
    "\n",
    "a = \"17\"\n",
    "print(f\"odwrotnosc({a}):\", odwrotnosc(a))"
   ]
  }
 ],
 "metadata": {
  "kernelspec": {
   "display_name": "Python 3",
   "language": "python",
   "name": "python3"
  },
  "language_info": {
   "codemirror_mode": {
    "name": "ipython",
    "version": 3
   },
   "file_extension": ".py",
   "mimetype": "text/x-python",
   "name": "python",
   "nbconvert_exporter": "python",
   "pygments_lexer": "ipython3",
   "version": "3.10.12"
  }
 },
 "nbformat": 4,
 "nbformat_minor": 2
}
