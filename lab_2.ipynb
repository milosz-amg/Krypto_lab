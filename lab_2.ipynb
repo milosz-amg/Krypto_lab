{
 "cells": [
  {
   "cell_type": "markdown",
   "metadata": {},
   "source": [
    "# Labolatorium 2"
   ]
  },
  {
   "cell_type": "code",
   "execution_count": 50,
   "metadata": {},
   "outputs": [],
   "source": [
    "import gmpy2\n",
    "import random\n",
    "import time\n",
    "from gmpy2 import mpz\n",
    "\n",
    "def random_elem_zn(k):\n",
    "    random.seed(int(time.time()))\n",
    "    bin = \"1\" +\"\".join(str(random.randint(0,1)) for bit in range(k-1))\n",
    "    r = mpz(bin, 2)\n",
    "    return r\n",
    "\n",
    "def random_prime(k, p):\n",
    "    r = gmpy2.mpz(random_elem_zn(k=k))\n",
    "    while True:\n",
    "        r = gmpy2.next_prime(r)\n",
    "        if r % gmpy2.mpz(4) == p:\n",
    "            return r\n",
    "        \n",
    "def effective_power(b,k,n):\n",
    "    resoult = 1\n",
    "    b = b % n\n",
    "    while k>0:\n",
    "        if k % 2 == 1:\n",
    "            resoult = (resoult * b) % n\n",
    "            \n",
    "        k = k//2\n",
    "        b = (b * b) % n\n",
    "    return resoult\n",
    "\n",
    "def is_quadratic_residue(b, p):\n",
    "    resoult = gmpy2.powmod(b, (p-1)//2, p)\n",
    "    return resoult == 1\n",
    "\n",
    "def sqrt_mod_p(b, p):\n",
    "    resoult = effective_power(b=b, k=(p+1)//4, n=p)\n",
    "    return resoult"
   ]
  },
  {
   "cell_type": "markdown",
   "metadata": {},
   "source": [
    "## Zadanie 1\n",
    "Zaimplementuj algorytm (funkcję), która generuje losową krzywą eliptyczną nad F<sub>p</sub>. <br>\n",
    "Dane: p = 3 (mod 4) duża liczba pierwsza (ok. 300 bitów) <br>\n",
    "Wynik: A, B ∈ Fp takie, że E : Y <sup>2</sup> = X<sup>3</sup> + AX + B jest krzywą nad F<sub>p</sub>"
   ]
  },
  {
   "cell_type": "code",
   "execution_count": 51,
   "metadata": {},
   "outputs": [
    {
     "name": "stdout",
     "output_type": "stream",
     "text": [
      "P:  1732080215712002454704681355387155171099538896304905967017952161440184063745826556907903731\n",
      " A:  1438505434365605582005427352651579320277270490020430950880932510659014446801249121190807032\n",
      " B:  828572917202432995858406360376239070110672729658239655166938974483622242735504065560901860\n",
      "\n"
     ]
    }
   ],
   "source": [
    "def generate_random_curve(p):\n",
    "    rand_state = gmpy2.random_state(int(time.time()))\n",
    "    while True:\n",
    "        A = gmpy2.mpz_random(rand_state, p)\n",
    "        B = gmpy2.mpz_random(rand_state, p)\n",
    "        if (4 * gmpy2.powmod(A, 3, p) + 27 * gmpy2.powmod(B, 2, p)) % p != 0:\n",
    "            return A, B\n",
    "\n",
    "\n",
    "p = random_prime(300,3)\n",
    "A, B = generate_random_curve(p=p)\n",
    "print(f\"P:  {p}\\n A:  {A}\\n B:  {B}\\n\")"
   ]
  },
  {
   "cell_type": "markdown",
   "metadata": {},
   "source": [
    "## Zadanie 2\n",
    "Zaimplementuj algorytm (funkcję), który znajduje losowy punkt na krzywej eliptycznej nad F<sub>p</sub>. <br>\n",
    "Dane: A, B, p = 3 (mod 4) takie, że E : Y<sup>2</sup> = X<sup>3</sup> + AX + B jest krzywą nad Fp<br>\n",
    "Wynik: P = (x, y) ∈ E(F<sub>p</sub>)"
   ]
  },
  {
   "cell_type": "code",
   "execution_count": 52,
   "metadata": {},
   "outputs": [
    {
     "name": "stdout",
     "output_type": "stream",
     "text": [
      "P=(632001240931913206424725296092737555291996466411769017127257663531360159738505913372800853,343089392046902625866744035273609795661765790634797233489747353499555070021147516944676200)\n",
      "P=(0,1)\n"
     ]
    }
   ],
   "source": [
    "def find_point_on_curve(A,B,p):\n",
    "    rand_state = gmpy2.random_state(int(time.time()))\n",
    "\n",
    "    while True:\n",
    "        x = gmpy2.mpz_random(rand_state,p)\n",
    "        y_pow_2 = ( effective_power(x,3,p) + A*x + B ) % p\n",
    "        if is_quadratic_residue(y_pow_2, p):\n",
    "            y = sqrt_mod_p(y_pow_2, p)\n",
    "            return x,y\n",
    "        \n",
    "\n",
    "p = random_prime(k=300,p=3)\n",
    "A, B = generate_random_curve(p=p)\n",
    "x, y = find_point_on_curve(A,B,p)\n",
    "print(f\"P=({x},{y})\")\n",
    "x, y = find_point_on_curve(1, 1, 7)\n",
    "print(f\"P=({x},{y})\")\n",
    "\n",
    "        \n"
   ]
  },
  {
   "cell_type": "markdown",
   "metadata": {},
   "source": [
    "## Zadanie 3\n",
    "Zaimplementuj algorytm (funkcję), który oblicza punkt przeciwny do danego punktu. <br>\n",
    "Dane: P = (x, y) ∈ E(F<sub>p</sub>) <br>\n",
    "Wynik: −P = (x, −y) ∈ E(F<sub>p</sub>) <br>"
   ]
  },
  {
   "cell_type": "code",
   "execution_count": 53,
   "metadata": {},
   "outputs": [
    {
     "name": "stdout",
     "output_type": "stream",
     "text": [
      "-P=(632001240931913206424725296092737555291996466411769017127257663531360159738505913372800853,1388990823665099828837937320113545375437773105670108733528204807940628993724679039963227531)\n",
      "-P=(2,2)\n"
     ]
    }
   ],
   "source": [
    "def opposite_point(x,y,p):\n",
    "    o_y = (-y) % p\n",
    "    o_x = x\n",
    "    return o_x, o_y\n",
    "\n",
    "\n",
    "p = random_prime(k=300,p=3)\n",
    "A, B = generate_random_curve(p=p)\n",
    "x, y = find_point_on_curve(A,B,p)\n",
    "o_x, o_y = opposite_point(x,y,p)\n",
    "print(f\"-P=({o_x},{o_y})\")\n",
    "\n",
    "o_x, o_y = opposite_point(2,5,7)\n",
    "print(f\"-P=({o_x},{o_y})\")\n",
    "\n"
   ]
  },
  {
   "cell_type": "markdown",
   "metadata": {},
   "source": [
    "## Zadanie 4\n",
    "Zaimplementuj algorytm (funkcję), która oblicza P ⊕ Q sumę punktów krzywej eliptycznych. Zaimplementuj wszystkie przypadki. <br>\n",
    "Dane: P = (x<sub>1</sub>, y<sub>1</sub>), Q = (x<sub>2</sub>, y<sub>2</sub>) ∈ E(F<sub>p</sub>) <br>\n",
    "Wynik: R = (x<sub>3</sub>, y<sub>3</sub>) ∈ E(F<sub>p</sub>) taki, że R = P ⊕ Q."
   ]
  },
  {
   "cell_type": "code",
   "execution_count": 65,
   "metadata": {},
   "outputs": [
    {
     "name": "stdout",
     "output_type": "stream",
     "text": [
      "p=1209190243764830539897540748420729897686982584954007018549249398461167867377343101723591447\n",
      "P=(1040525989921319378167680066565955445002440073598338531341959507715951342101836861851254046,197004223270094874291775984204358827077927911705015980377762613337901591705923998827355020)\n",
      "Q=(779435042344436695024326097840543094124230939780408125040425066973770586780631710665806391,307553494233576374914534615688949409720223245980231378280937508417890967851534112622709380)\n",
      "P+Q=(540591093681901591187119591351813715491888863845167070378083744632382334665578349735263663,277896869468123653535070796948174981171209212475221373455088364028521950930383996506703955)\n"
     ]
    }
   ],
   "source": [
    "from time import sleep\n",
    "def eliptic_sum(x1, y1, x2, y2, p, A, B):\n",
    "    x1_o, y1_o = opposite_point(x1, y1, p)\n",
    "\n",
    "    if x2 == float('inf') and y2 == float('inf'):       # P + INF_P\n",
    "        return x1, y1\n",
    "    elif x1 == float('inf') and y1 == float('inf'):\n",
    "        return x2, y2\n",
    "    \n",
    "    elif x2 ==x1_o and y2==y1_o:                        # P + -P\n",
    "        return float('inf'), float('inf')\n",
    "    \n",
    "    elif x1 == x2 and y1 == y2:                         # P + P\n",
    "        lam = ((mpz(3) * gmpy2.powmod(x1, mpz(2), p) + A) * (gmpy2.invert(2*y1, p))) % p\n",
    "        x3 = (gmpy2.powmod(lam, mpz(2), p) - mpz(2) * x1) % p\n",
    "        y3 = (lam * (x1 - x3) - y1) % p\n",
    "        return x3, y3\n",
    "    \n",
    "    elif x1 != x2:                                       # P + Q\n",
    "        lam = ((y2 - y1)*gmpy2.invert(x2-x1,p)) % p\n",
    "        x3 = (gmpy2.powmod(lam, mpz(2), p) - x1 - x2) % p\n",
    "        y3 = (lam * (x1-x3) - y1) % p\n",
    "        return x3, y3\n",
    "\n",
    "\n",
    "p = random_prime(k=300,p=3)\n",
    "print(f\"p={p}\")\n",
    "A, B = generate_random_curve(p=p)\n",
    "x1, y1 = find_point_on_curve(A,B,p)\n",
    "sleep(1)\n",
    "x2, y2 = find_point_on_curve(A,B,p)\n",
    "print(f\"P=({x1},{y1})\")\n",
    "print(f\"Q=({x2},{y2})\")\n",
    "\n",
    "x3,y3 = eliptic_sum(x1,y1,x2,y2,p,A,B)\n",
    "print(f\"P+Q=({x3},{y3})\")\n",
    "\n",
    "\n",
    "\n",
    "\n"
   ]
  },
  {
   "cell_type": "markdown",
   "metadata": {},
   "source": [
    "## Zadanie 5\n",
    "Zaimplementuj algorytm (funkcję), który oblicza n-tą wielokrotność punktu P.<br>\n",
    "Dane: n ∈ N, P ∈ E(F<sub>p</sub>)<br>\n",
    "Wynik: Q ∈ E(F<sub>p</sub>) taki, że Q = nP.<br>"
   ]
  },
  {
   "cell_type": "markdown",
   "metadata": {},
   "source": [
    "Technika \"Podwój i dodaj\" analogiczna do efektywnego podnoszenia do kwadratu"
   ]
  },
  {
   "cell_type": "code",
   "execution_count": 97,
   "metadata": {},
   "outputs": [
    {
     "name": "stdout",
     "output_type": "stream",
     "text": [
      "p=1257896475140851593680918023379620807554261088390915376549793456869939852074954369509462151\n",
      "P=(713566788109113703891523322524657565049480508300240159799384282597329714737394997979634012,375441489313881311108670752627745818285150784115529768510343994512730179502597533151416121)\n",
      "n=5\n",
      "nP=(214806276340487384830407709644292292362271910422854079320203430290945552557069488318231565,1064561919131684588123543490191362932202249396310847295790950953251695321304950921400334222)\n"
     ]
    }
   ],
   "source": [
    "def scalar_multiplication(n, x1, y1, A, B, p):\n",
    "    Ox, Oy = float('inf'), float('inf')\n",
    "    x, y = x1, y1\n",
    "\n",
    "    while n > 0:\n",
    "        if n % 2 == 1:\n",
    "            Ox, Oy = eliptic_sum(Ox, Oy, x, y, p, A, B)\n",
    "        x, y = eliptic_sum(x, y, x, y, p, A, B)\n",
    "        n //= 2\n",
    "\n",
    "    return Ox, Oy\n",
    "\n",
    "\n",
    "\n",
    "n = 5\n",
    "p = random_prime(k=300,p=3)\n",
    "print(f\"p={p}\")\n",
    "A, B = generate_random_curve(p=p)\n",
    "x1, y1 = find_point_on_curve(A,B,p)\n",
    "\n",
    "xn, yn = scalar_multiplication(n, x1, y1, A, B, p)\n",
    "# xn, yn = scalar_multiplication(n, 3, 3, 1, 1, 7)\n",
    "\n",
    "print(f\"P=({x1},{y1})\")\n",
    "print(f\"n={n}\")\n",
    "print(f\"nP=({xn},{yn})\")\n"
   ]
  }
 ],
 "metadata": {
  "kernelspec": {
   "display_name": "Python 3",
   "language": "python",
   "name": "python3"
  },
  "language_info": {
   "codemirror_mode": {
    "name": "ipython",
    "version": 3
   },
   "file_extension": ".py",
   "mimetype": "text/x-python",
   "name": "python",
   "nbconvert_exporter": "python",
   "pygments_lexer": "ipython3",
   "version": "3.10.12"
  }
 },
 "nbformat": 4,
 "nbformat_minor": 2
}
